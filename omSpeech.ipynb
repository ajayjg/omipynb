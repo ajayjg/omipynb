{
  "nbformat": 4,
  "nbformat_minor": 0,
  "metadata": {
    "colab": {
      "name": "omSpeech.ipynb",
      "provenance": [],
      "authorship_tag": "ABX9TyOUQD6NtzMi7Q9zJ5L2ufi5",
      "include_colab_link": true
    },
    "kernelspec": {
      "name": "python3",
      "display_name": "Python 3"
    }
  },
  "cells": [
    {
      "cell_type": "markdown",
      "metadata": {
        "id": "view-in-github",
        "colab_type": "text"
      },
      "source": [
        "<a href=\"https://colab.research.google.com/github/ajayjg/omipynb/blob/master/omSpeech.ipynb\" target=\"_parent\"><img src=\"https://colab.research.google.com/assets/colab-badge.svg\" alt=\"Open In Colab\"/></a>"
      ]
    },
    {
      "cell_type": "code",
      "metadata": {
        "id": "HA_NF3uBRx-J",
        "colab_type": "code",
        "colab": {}
      },
      "source": [
        "from __future__ import absolute_import\n",
        "from __future__ import division\n",
        "from __future__ import print_function\n",
        "\n",
        "import os\n",
        "import wget\n",
        "import tarfile\n",
        "\n",
        "from shutil import rmtree\n",
        "\n",
        "DATASET_URL = 'http://download.tensorflow.org/data/speech_commands_v0.01.tar.gz'\n",
        "ARCHIVE = os.path.basename(DATASET_URL)\n",
        "\n",
        "wget.download(DATASET_URL)\n",
        "\n",
        "if os.path.exists('data'):\n",
        "  rmtree('data')\n",
        "\n",
        "os.makedirs('data/train')\n",
        "\n",
        "with tarfile.open(ARCHIVE, 'r:gz') as tar:\n",
        "  tar.extractall(path='data/train')\n",
        "\n",
        "os.remove(ARCHIVE)\n"
      ],
      "execution_count": 0,
      "outputs": []
    }
  ]
}